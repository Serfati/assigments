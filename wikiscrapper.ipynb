{
 "metadata": {
  "language_info": {
   "codemirror_mode": {
    "name": "ipython",
    "version": 3
   },
   "file_extension": ".py",
   "mimetype": "text/x-python",
   "name": "python",
   "nbconvert_exporter": "python",
   "pygments_lexer": "ipython3",
   "version": "3.8.5-final"
  },
  "orig_nbformat": 2,
  "kernelspec": {
   "name": "python38564bit39bc59e53f6c44bdbcea093f1a11cc78",
   "display_name": "Python 3.8.5 64-bit"
  }
 },
 "nbformat": 4,
 "nbformat_minor": 2,
 "cells": [
  {
   "cell_type": "code",
   "execution_count": 1,
   "metadata": {},
   "outputs": [],
   "source": [
    "from bs4 import BeautifulSoup\n",
    "import mwparserfromhell\n",
    "import pandas as pd\n",
    "import re\n",
    "from urllib.request import urlopen\n",
    "from urllib.parse import urlencode"
   ]
  },
  {
   "cell_type": "code",
   "execution_count": 2,
   "metadata": {},
   "outputs": [],
   "source": [
    "API_URL = \"https://en.wikipedia.org/w/api.php\"\n",
    "wiki_prefix = \"https://en.wikipedia.org\"\n",
    "wiki_gal = 'https://en.wikipedia.org/wiki/Gal_Gadot'\n",
    "html = urlopen(wiki_gal)\n",
    "soup = BeautifulSoup(html, features='html.parser')\n",
    "films_table = soup.find('table', class_='wikitable sortable').findAll('tr') "
   ]
  },
  {
   "cell_type": "code",
   "execution_count": 3,
   "metadata": {},
   "outputs": [],
   "source": [
    "headers = films_table[0]\n",
    "rows = films_table[1:]\n",
    "headers = [header.get_text().strip() for header in headers.find_all('th')]\n",
    "table = [[cell.get_text().strip() for cell in row.find_all('td')]\n",
    "         for row in rows]"
   ]
  },
  {
   "cell_type": "code",
   "execution_count": 4,
   "metadata": {},
   "outputs": [],
   "source": [
    "for i, v in enumerate(table):\n",
    "    if not v[0].isdigit() and v[0] != 'TBA':\n",
    "        table[i].insert(0, table[i-1][0])"
   ]
  },
  {
   "cell_type": "code",
   "execution_count": 5,
   "metadata": {},
   "outputs": [
    {
     "output_type": "execute_result",
     "data": {
      "text/plain": [
       "    Year                               Title                         Role  \\\n",
       "0   2009                      Fast & Furious                Gisele Yashar   \n",
       "1   2010                          Date Night                      Natanya   \n",
       "2   2010                      Knight and Day                        Naomi   \n",
       "3   2011                           Fast Five                Gisele Yashar   \n",
       "4   2013                    Fast & Furious 6                Gisele Yashar   \n",
       "5   2014                Kicking Out Shoshana             Mirit Ben Harush   \n",
       "6   2015                           Furious 7                Gisele Yashar   \n",
       "7   2016  Batman v Superman: Dawn of Justice  Diana Prince / Wonder Woman   \n",
       "8   2016                            Criminal                    Jill Pope   \n",
       "9   2016         Keeping Up with the Joneses                Natalie Jones   \n",
       "10  2016                            Triple 9                Elena Vlaslov   \n",
       "11  2017                        Wonder Woman  Diana Prince / Wonder Woman   \n",
       "12  2017                      Justice League  Diana Prince / Wonder Woman   \n",
       "13  2018           Ralph Breaks the Internet                        Shank   \n",
       "14  2019        Between Two Ferns: The Movie                      Herself   \n",
       "15  2020                   Death on the Nile        Linnet Ridgeway-Doyle   \n",
       "16  2020                   Wonder Woman 1984  Diana Prince / Wonder Woman   \n",
       "17   TBA                          Red Notice                                \n",
       "\n",
       "                            Director(s)  \n",
       "0                            Justin Lin  \n",
       "1                            Shawn Levy  \n",
       "2                         James Mangold  \n",
       "3                            Justin Lin  \n",
       "4                            Justin Lin  \n",
       "5                            Shay Kanot  \n",
       "6                             James Wan  \n",
       "7                           Zack Snyder  \n",
       "8                          Ariel Vromen  \n",
       "9                          Greg Mottola  \n",
       "10                        John Hillcoat  \n",
       "11                        Patty Jenkins  \n",
       "12  Zack SnyderJoss Whedon (uncredited)  \n",
       "13         Rich Moore and Phil Johnston  \n",
       "14                       Scott Aukerman  \n",
       "15                      Kenneth Branagh  \n",
       "16                        Patty Jenkins  \n",
       "17              Rawson Marshall Thurber  "
      ],
      "text/html": "<div>\n<style scoped>\n    .dataframe tbody tr th:only-of-type {\n        vertical-align: middle;\n    }\n\n    .dataframe tbody tr th {\n        vertical-align: top;\n    }\n\n    .dataframe thead th {\n        text-align: right;\n    }\n</style>\n<table border=\"1\" class=\"dataframe\">\n  <thead>\n    <tr style=\"text-align: right;\">\n      <th></th>\n      <th>Year</th>\n      <th>Title</th>\n      <th>Role</th>\n      <th>Director(s)</th>\n    </tr>\n  </thead>\n  <tbody>\n    <tr>\n      <th>0</th>\n      <td>2009</td>\n      <td>Fast &amp; Furious</td>\n      <td>Gisele Yashar</td>\n      <td>Justin Lin</td>\n    </tr>\n    <tr>\n      <th>1</th>\n      <td>2010</td>\n      <td>Date Night</td>\n      <td>Natanya</td>\n      <td>Shawn Levy</td>\n    </tr>\n    <tr>\n      <th>2</th>\n      <td>2010</td>\n      <td>Knight and Day</td>\n      <td>Naomi</td>\n      <td>James Mangold</td>\n    </tr>\n    <tr>\n      <th>3</th>\n      <td>2011</td>\n      <td>Fast Five</td>\n      <td>Gisele Yashar</td>\n      <td>Justin Lin</td>\n    </tr>\n    <tr>\n      <th>4</th>\n      <td>2013</td>\n      <td>Fast &amp; Furious 6</td>\n      <td>Gisele Yashar</td>\n      <td>Justin Lin</td>\n    </tr>\n    <tr>\n      <th>5</th>\n      <td>2014</td>\n      <td>Kicking Out Shoshana</td>\n      <td>Mirit Ben Harush</td>\n      <td>Shay Kanot</td>\n    </tr>\n    <tr>\n      <th>6</th>\n      <td>2015</td>\n      <td>Furious 7</td>\n      <td>Gisele Yashar</td>\n      <td>James Wan</td>\n    </tr>\n    <tr>\n      <th>7</th>\n      <td>2016</td>\n      <td>Batman v Superman: Dawn of Justice</td>\n      <td>Diana Prince / Wonder Woman</td>\n      <td>Zack Snyder</td>\n    </tr>\n    <tr>\n      <th>8</th>\n      <td>2016</td>\n      <td>Criminal</td>\n      <td>Jill Pope</td>\n      <td>Ariel Vromen</td>\n    </tr>\n    <tr>\n      <th>9</th>\n      <td>2016</td>\n      <td>Keeping Up with the Joneses</td>\n      <td>Natalie Jones</td>\n      <td>Greg Mottola</td>\n    </tr>\n    <tr>\n      <th>10</th>\n      <td>2016</td>\n      <td>Triple 9</td>\n      <td>Elena Vlaslov</td>\n      <td>John Hillcoat</td>\n    </tr>\n    <tr>\n      <th>11</th>\n      <td>2017</td>\n      <td>Wonder Woman</td>\n      <td>Diana Prince / Wonder Woman</td>\n      <td>Patty Jenkins</td>\n    </tr>\n    <tr>\n      <th>12</th>\n      <td>2017</td>\n      <td>Justice League</td>\n      <td>Diana Prince / Wonder Woman</td>\n      <td>Zack SnyderJoss Whedon (uncredited)</td>\n    </tr>\n    <tr>\n      <th>13</th>\n      <td>2018</td>\n      <td>Ralph Breaks the Internet</td>\n      <td>Shank</td>\n      <td>Rich Moore and Phil Johnston</td>\n    </tr>\n    <tr>\n      <th>14</th>\n      <td>2019</td>\n      <td>Between Two Ferns: The Movie</td>\n      <td>Herself</td>\n      <td>Scott Aukerman</td>\n    </tr>\n    <tr>\n      <th>15</th>\n      <td>2020</td>\n      <td>Death on the Nile</td>\n      <td>Linnet Ridgeway-Doyle</td>\n      <td>Kenneth Branagh</td>\n    </tr>\n    <tr>\n      <th>16</th>\n      <td>2020</td>\n      <td>Wonder Woman 1984</td>\n      <td>Diana Prince / Wonder Woman</td>\n      <td>Patty Jenkins</td>\n    </tr>\n    <tr>\n      <th>17</th>\n      <td>TBA</td>\n      <td>Red Notice</td>\n      <td></td>\n      <td>Rawson Marshall Thurber</td>\n    </tr>\n  </tbody>\n</table>\n</div>"
     },
     "metadata": {},
     "execution_count": 5
    }
   ],
   "source": [
    "df = pd.DataFrame(data=table, columns=headers)\n",
    "df = df.drop(['Notes'], axis=1)\n",
    "pd.set_option('display.max_columns', 5)\n",
    "df"
   ]
  },
  {
   "cell_type": "code",
   "execution_count": 6,
   "metadata": {},
   "outputs": [],
   "source": [
    "import json\n",
    "def parse(title):\n",
    "    data = {\"action\": \"query\", \"prop\": \"revisions\", \"rvprop\": \"content\",\n",
    "            \"rvslots\": \"main\", \"rvlimit\": 1, \"titles\": title,\n",
    "            \"format\": \"json\", \"formatversion\": \"2\"}\n",
    "    raw = urlopen(API_URL, urlencode(data).encode()).read()\n",
    "    res = json.loads(raw)\n",
    "    revision = res[\"query\"][\"pages\"][0][\"revisions\"][0]\n",
    "    text = revision[\"slots\"][\"main\"][\"content\"]\n",
    "    return mwparserfromhell.parse(text)"
   ]
  },
  {
   "cell_type": "code",
   "execution_count": 7,
   "metadata": {},
   "outputs": [],
   "source": [
    "def find_number_of_awards(page_actor):\n",
    "    page = urlopen(page_actor)\n",
    "    page_actor = BeautifulSoup(page, 'html.parser')\n",
    "    awards1 = awards2 = awards3 = -1\n",
    "    try:\n",
    "        awards1 = len(\n",
    "            page_actor.find('span', {'id': 'Awards_and_nominations'}).findNext('table').find_all('td', {\n",
    "                'class': 'yes table-yes2'}))\n",
    "    except:\n",
    "        pass\n",
    "    try:\n",
    "        awards2 = len(page_actor.find('span', {'id': 'Awards_and_nominations'}).findNext('table').findNext('table').find_all('td', {\n",
    "            'class': 'yes table-yes2'}))\n",
    "    except:\n",
    "        pass\n",
    "    try:\n",
    "        url = page_actor.find('a', {'title': re.compile(\n",
    "            'List of awards and nominations received by')})['href']\n",
    "        page_awards = BeautifulSoup(\n",
    "            urlopen(wiki_prefix + url), \"lxml\")\n",
    "        awards3 = len(page_awards.findAll(\n",
    "            'td', {'class': 'yes table-yes2'}, text=re.compile(\"Won\")))\n",
    "    except:\n",
    "        pass\n",
    "    if awards1 != -1 or awards2 != -1 or awards3 != -1:\n",
    "        return max(awards1, awards2, awards3)\n",
    "    return 0"
   ]
  },
  {
   "cell_type": "code",
   "execution_count": 8,
   "metadata": {},
   "outputs": [],
   "source": [
    "page = urlopen(wiki_gal)\n",
    "soup = BeautifulSoup(page, 'html.parser')\n",
    "films_table = soup.find('table', class_='wikitable sortable')\n",
    "films_urls = [wiki_prefix+row.find(href=True)['href']\n",
    "              for row in films_table.findAll('tr') if row.find_all('td')]\n"
   ]
  },
  {
   "cell_type": "code",
   "execution_count": 13,
   "metadata": {},
   "outputs": [],
   "source": [
    "actors_table = []\n",
    "for url in films_urls:\n",
    "    film_actors = []\n",
    "    soup = BeautifulSoup(urlopen(url), features='html.parser')\n",
    "    raw = (soup.find(id=re.compile(\n",
    "        \".*cast.*\", re.IGNORECASE)).parent).find_next('ul')\n",
    "    film_actors.extend([[i.find('a').text, wiki_prefix+i.find(href=True)['href']]\n",
    "                        for i in raw.select(\"li\") if i.find('a') and i.find('a').text != 'Gal Gadot'])\n",
    "    actors_table.extend(film_actors)\n",
    "    # if len(actors_table) > 8:\n",
    "    #     break"
   ]
  },
  {
   "cell_type": "code",
   "execution_count": 14,
   "metadata": {},
   "outputs": [],
   "source": [
    "for i, v in enumerate(actors_table):\n",
    "    name, url = v\n",
    "    info_box = ''\n",
    "    try:\n",
    "        wiki = parse(name)\n",
    "        info_box = wiki.filter_templates(matches=\"Infobox person\")[0]\n",
    "        v.append(int(''.join(info_box.get('birth_date').value.filter_templates()[0].get(1))))\n",
    "    except:\n",
    "        v.append(-1)\n",
    "    try:\n",
    "        country_raw = info_box.get('birth_place').value\n",
    "        j = country_raw.rfind(']')\n",
    "        d = \",!?/&-:;@'<>{}\"\n",
    "        country_raw = re.split(\"[\"+\"\\\\\".join(d)+\"]\", country_raw[j+2:])\n",
    "        country_raw = [\n",
    "            'U.S.', country_raw[0].strip()][country_raw[0].strip() != '']\n",
    "        v.append(country_raw)\n",
    "    except:\n",
    "        v.append('U.S.')\n",
    "    try:\n",
    "        v.append(find_number_of_awards(url))\n",
    "    except:\n",
    "        v.append(0)\n",
    "        pass"
   ]
  },
  {
   "cell_type": "code",
   "execution_count": 15,
   "metadata": {},
   "outputs": [
    {
     "output_type": "execute_result",
     "data": {
      "text/plain": [
       "                     Name  Year of Birth Country of Birth  No. of Awards\n",
       "0              Vin Diesel           1967             U.S.              8\n",
       "1             Paul Walker           1973             U.S.              3\n",
       "2      Michelle Rodríguez             -1             U.S.              8\n",
       "3        Jordana Brewster           1980           Panama              1\n",
       "4              John Ortiz           1968             U.S.              0\n",
       "..                    ...            ...              ...            ...\n",
       "185        Connie Nielsen           1965          Denmark              0\n",
       "186        Dwayne Johnson           1972             U.S.              0\n",
       "187         Ryan Reynolds           1976           Canada             12\n",
       "188             Ritu Arya             -1            India              0\n",
       "189  Chris Diamantopoulos           1975           Canada              0\n",
       "\n",
       "[190 rows x 4 columns]"
      ],
      "text/html": "<div>\n<style scoped>\n    .dataframe tbody tr th:only-of-type {\n        vertical-align: middle;\n    }\n\n    .dataframe tbody tr th {\n        vertical-align: top;\n    }\n\n    .dataframe thead th {\n        text-align: right;\n    }\n</style>\n<table border=\"1\" class=\"dataframe\">\n  <thead>\n    <tr style=\"text-align: right;\">\n      <th></th>\n      <th>Name</th>\n      <th>Year of Birth</th>\n      <th>Country of Birth</th>\n      <th>No. of Awards</th>\n    </tr>\n  </thead>\n  <tbody>\n    <tr>\n      <th>0</th>\n      <td>Vin Diesel</td>\n      <td>1967</td>\n      <td>U.S.</td>\n      <td>8</td>\n    </tr>\n    <tr>\n      <th>1</th>\n      <td>Paul Walker</td>\n      <td>1973</td>\n      <td>U.S.</td>\n      <td>3</td>\n    </tr>\n    <tr>\n      <th>2</th>\n      <td>Michelle Rodríguez</td>\n      <td>-1</td>\n      <td>U.S.</td>\n      <td>8</td>\n    </tr>\n    <tr>\n      <th>3</th>\n      <td>Jordana Brewster</td>\n      <td>1980</td>\n      <td>Panama</td>\n      <td>1</td>\n    </tr>\n    <tr>\n      <th>4</th>\n      <td>John Ortiz</td>\n      <td>1968</td>\n      <td>U.S.</td>\n      <td>0</td>\n    </tr>\n    <tr>\n      <th>...</th>\n      <td>...</td>\n      <td>...</td>\n      <td>...</td>\n      <td>...</td>\n    </tr>\n    <tr>\n      <th>185</th>\n      <td>Connie Nielsen</td>\n      <td>1965</td>\n      <td>Denmark</td>\n      <td>0</td>\n    </tr>\n    <tr>\n      <th>186</th>\n      <td>Dwayne Johnson</td>\n      <td>1972</td>\n      <td>U.S.</td>\n      <td>0</td>\n    </tr>\n    <tr>\n      <th>187</th>\n      <td>Ryan Reynolds</td>\n      <td>1976</td>\n      <td>Canada</td>\n      <td>12</td>\n    </tr>\n    <tr>\n      <th>188</th>\n      <td>Ritu Arya</td>\n      <td>-1</td>\n      <td>India</td>\n      <td>0</td>\n    </tr>\n    <tr>\n      <th>189</th>\n      <td>Chris Diamantopoulos</td>\n      <td>1975</td>\n      <td>Canada</td>\n      <td>0</td>\n    </tr>\n  </tbody>\n</table>\n<p>190 rows × 4 columns</p>\n</div>"
     },
     "metadata": {},
     "execution_count": 15
    }
   ],
   "source": [
    "headers = ['Name','url', 'Year of Birth', 'Country of Birth', 'No. of Awards']\n",
    "df = pd.DataFrame(data=actors_table, columns=headers)\n",
    "df = df.drop(['url'], axis=1)\n",
    "pd.set_option('display.max_columns', 5)\n",
    "df  "
   ]
  },
  {
   "cell_type": "code",
   "execution_count": 16,
   "metadata": {},
   "outputs": [
    {
     "output_type": "display_data",
     "data": {
      "text/plain": "<Figure size 1152x648 with 0 Axes>"
     },
     "metadata": {}
    },
    {
     "output_type": "display_data",
     "data": {
      "text/plain": "<Figure size 360x360 with 1 Axes>",
      "image/svg+xml": "<?xml version=\"1.0\" encoding=\"utf-8\" standalone=\"no\"?>\n<!DOCTYPE svg PUBLIC \"-//W3C//DTD SVG 1.1//EN\"\n  \"http://www.w3.org/Graphics/SVG/1.1/DTD/svg11.dtd\">\n<!-- Created with matplotlib (https://matplotlib.org/) -->\n<svg height=\"347.244062pt\" version=\"1.1\" viewBox=\"0 0 331.47625 347.244062\" width=\"331.47625pt\" xmlns=\"http://www.w3.org/2000/svg\" xmlns:xlink=\"http://www.w3.org/1999/xlink\">\n <metadata>\n  <rdf:RDF xmlns:cc=\"http://creativecommons.org/ns#\" xmlns:dc=\"http://purl.org/dc/elements/1.1/\" xmlns:rdf=\"http://www.w3.org/1999/02/22-rdf-syntax-ns#\">\n   <cc:Work>\n    <dc:type rdf:resource=\"http://purl.org/dc/dcmitype/StillImage\"/>\n    <dc:date>2020-11-04T13:22:35.729900</dc:date>\n    <dc:format>image/svg+xml</dc:format>\n    <dc:creator>\n     <cc:Agent>\n      <dc:title>Matplotlib v3.3.2, https://matplotlib.org/</dc:title>\n     </cc:Agent>\n    </dc:creator>\n   </cc:Work>\n  </rdf:RDF>\n </metadata>\n <defs>\n  <style type=\"text/css\">*{stroke-linecap:butt;stroke-linejoin:round;}</style>\n </defs>\n <g id=\"figure_1\">\n  <g id=\"patch_1\">\n   <path d=\"M 0 347.244062 \nL 331.47625 347.244062 \nL 331.47625 0 \nL 0 0 \nz\n\" style=\"fill:#ffffff;\"/>\n  </g>\n  <g id=\"axes_1\">\n   <g id=\"patch_2\">\n    <path d=\"M 37.69625 319.898125 \nL 324.27625 319.898125 \nL 324.27625 22.318125 \nL 37.69625 22.318125 \nz\n\" style=\"fill:#eaeaf2;\"/>\n   </g>\n   <g id=\"matplotlib.axis_1\">\n    <g id=\"xtick_1\">\n     <g id=\"line2d_1\">\n      <path clip-path=\"url(#p5e670291ba)\" d=\"M 50.722614 319.898125 \nL 50.722614 22.318125 \n\" style=\"fill:none;stroke:#ffffff;stroke-linecap:round;\"/>\n     </g>\n     <g id=\"text_1\">\n      <!-- 1 -->\n      <g style=\"fill:#262626;\" transform=\"translate(47.223239 337.756406)scale(0.11 -0.11)\">\n       <defs>\n        <path d=\"M 12.40625 8.296875 \nL 28.515625 8.296875 \nL 28.515625 63.921875 \nL 10.984375 60.40625 \nL 10.984375 69.390625 \nL 28.421875 72.90625 \nL 38.28125 72.90625 \nL 38.28125 8.296875 \nL 54.390625 8.296875 \nL 54.390625 0 \nL 12.40625 0 \nz\n\" id=\"DejaVuSans-49\"/>\n       </defs>\n       <use xlink:href=\"#DejaVuSans-49\"/>\n      </g>\n     </g>\n    </g>\n    <g id=\"xtick_2\">\n     <g id=\"line2d_2\">\n      <path clip-path=\"url(#p5e670291ba)\" d=\"M 137.565038 319.898125 \nL 137.565038 22.318125 \n\" style=\"fill:none;stroke:#ffffff;stroke-linecap:round;\"/>\n     </g>\n     <g id=\"text_2\">\n      <!-- 2 -->\n      <g style=\"fill:#262626;\" transform=\"translate(134.065663 337.756406)scale(0.11 -0.11)\">\n       <defs>\n        <path d=\"M 19.1875 8.296875 \nL 53.609375 8.296875 \nL 53.609375 0 \nL 7.328125 0 \nL 7.328125 8.296875 \nQ 12.9375 14.109375 22.625 23.890625 \nQ 32.328125 33.6875 34.8125 36.53125 \nQ 39.546875 41.84375 41.421875 45.53125 \nQ 43.3125 49.21875 43.3125 52.78125 \nQ 43.3125 58.59375 39.234375 62.25 \nQ 35.15625 65.921875 28.609375 65.921875 \nQ 23.96875 65.921875 18.8125 64.3125 \nQ 13.671875 62.703125 7.8125 59.421875 \nL 7.8125 69.390625 \nQ 13.765625 71.78125 18.9375 73 \nQ 24.125 74.21875 28.421875 74.21875 \nQ 39.75 74.21875 46.484375 68.546875 \nQ 53.21875 62.890625 53.21875 53.421875 \nQ 53.21875 48.921875 51.53125 44.890625 \nQ 49.859375 40.875 45.40625 35.40625 \nQ 44.1875 33.984375 37.640625 27.21875 \nQ 31.109375 20.453125 19.1875 8.296875 \nz\n\" id=\"DejaVuSans-50\"/>\n       </defs>\n       <use xlink:href=\"#DejaVuSans-50\"/>\n      </g>\n     </g>\n    </g>\n    <g id=\"xtick_3\">\n     <g id=\"line2d_3\">\n      <path clip-path=\"url(#p5e670291ba)\" d=\"M 224.407462 319.898125 \nL 224.407462 22.318125 \n\" style=\"fill:none;stroke:#ffffff;stroke-linecap:round;\"/>\n     </g>\n     <g id=\"text_3\">\n      <!-- 3 -->\n      <g style=\"fill:#262626;\" transform=\"translate(220.908087 337.756406)scale(0.11 -0.11)\">\n       <defs>\n        <path d=\"M 40.578125 39.3125 \nQ 47.65625 37.796875 51.625 33 \nQ 55.609375 28.21875 55.609375 21.1875 \nQ 55.609375 10.40625 48.1875 4.484375 \nQ 40.765625 -1.421875 27.09375 -1.421875 \nQ 22.515625 -1.421875 17.65625 -0.515625 \nQ 12.796875 0.390625 7.625 2.203125 \nL 7.625 11.71875 \nQ 11.71875 9.328125 16.59375 8.109375 \nQ 21.484375 6.890625 26.8125 6.890625 \nQ 36.078125 6.890625 40.9375 10.546875 \nQ 45.796875 14.203125 45.796875 21.1875 \nQ 45.796875 27.640625 41.28125 31.265625 \nQ 36.765625 34.90625 28.71875 34.90625 \nL 20.21875 34.90625 \nL 20.21875 43.015625 \nL 29.109375 43.015625 \nQ 36.375 43.015625 40.234375 45.921875 \nQ 44.09375 48.828125 44.09375 54.296875 \nQ 44.09375 59.90625 40.109375 62.90625 \nQ 36.140625 65.921875 28.71875 65.921875 \nQ 24.65625 65.921875 20.015625 65.03125 \nQ 15.375 64.15625 9.8125 62.3125 \nL 9.8125 71.09375 \nQ 15.4375 72.65625 20.34375 73.4375 \nQ 25.25 74.21875 29.59375 74.21875 \nQ 40.828125 74.21875 47.359375 69.109375 \nQ 53.90625 64.015625 53.90625 55.328125 \nQ 53.90625 49.265625 50.4375 45.09375 \nQ 46.96875 40.921875 40.578125 39.3125 \nz\n\" id=\"DejaVuSans-51\"/>\n       </defs>\n       <use xlink:href=\"#DejaVuSans-51\"/>\n      </g>\n     </g>\n    </g>\n    <g id=\"xtick_4\">\n     <g id=\"line2d_4\">\n      <path clip-path=\"url(#p5e670291ba)\" d=\"M 311.249886 319.898125 \nL 311.249886 22.318125 \n\" style=\"fill:none;stroke:#ffffff;stroke-linecap:round;\"/>\n     </g>\n     <g id=\"text_4\">\n      <!-- 4 -->\n      <g style=\"fill:#262626;\" transform=\"translate(307.750511 337.756406)scale(0.11 -0.11)\">\n       <defs>\n        <path d=\"M 37.796875 64.3125 \nL 12.890625 25.390625 \nL 37.796875 25.390625 \nz\nM 35.203125 72.90625 \nL 47.609375 72.90625 \nL 47.609375 25.390625 \nL 58.015625 25.390625 \nL 58.015625 17.1875 \nL 47.609375 17.1875 \nL 47.609375 0 \nL 37.796875 0 \nL 37.796875 17.1875 \nL 4.890625 17.1875 \nL 4.890625 26.703125 \nz\n\" id=\"DejaVuSans-52\"/>\n       </defs>\n       <use xlink:href=\"#DejaVuSans-52\"/>\n      </g>\n     </g>\n    </g>\n   </g>\n   <g id=\"matplotlib.axis_2\">\n    <g id=\"ytick_1\">\n     <g id=\"line2d_5\">\n      <path clip-path=\"url(#p5e670291ba)\" d=\"M 37.69625 319.898125 \nL 324.27625 319.898125 \n\" style=\"fill:none;stroke:#ffffff;stroke-linecap:round;\"/>\n     </g>\n     <g id=\"text_5\">\n      <!-- 0 -->\n      <g style=\"fill:#262626;\" transform=\"translate(21.1975 324.077266)scale(0.11 -0.11)\">\n       <defs>\n        <path d=\"M 31.78125 66.40625 \nQ 24.171875 66.40625 20.328125 58.90625 \nQ 16.5 51.421875 16.5 36.375 \nQ 16.5 21.390625 20.328125 13.890625 \nQ 24.171875 6.390625 31.78125 6.390625 \nQ 39.453125 6.390625 43.28125 13.890625 \nQ 47.125 21.390625 47.125 36.375 \nQ 47.125 51.421875 43.28125 58.90625 \nQ 39.453125 66.40625 31.78125 66.40625 \nz\nM 31.78125 74.21875 \nQ 44.046875 74.21875 50.515625 64.515625 \nQ 56.984375 54.828125 56.984375 36.375 \nQ 56.984375 17.96875 50.515625 8.265625 \nQ 44.046875 -1.421875 31.78125 -1.421875 \nQ 19.53125 -1.421875 13.0625 8.265625 \nQ 6.59375 17.96875 6.59375 36.375 \nQ 6.59375 54.828125 13.0625 64.515625 \nQ 19.53125 74.21875 31.78125 74.21875 \nz\n\" id=\"DejaVuSans-48\"/>\n       </defs>\n       <use xlink:href=\"#DejaVuSans-48\"/>\n      </g>\n     </g>\n    </g>\n    <g id=\"ytick_2\">\n     <g id=\"line2d_6\">\n      <path clip-path=\"url(#p5e670291ba)\" d=\"M 37.69625 279.41105 \nL 324.27625 279.41105 \n\" style=\"fill:none;stroke:#ffffff;stroke-linecap:round;\"/>\n     </g>\n     <g id=\"text_6\">\n      <!-- 20 -->\n      <g style=\"fill:#262626;\" transform=\"translate(14.19875 283.590191)scale(0.11 -0.11)\">\n       <use xlink:href=\"#DejaVuSans-50\"/>\n       <use x=\"63.623047\" xlink:href=\"#DejaVuSans-48\"/>\n      </g>\n     </g>\n    </g>\n    <g id=\"ytick_3\">\n     <g id=\"line2d_7\">\n      <path clip-path=\"url(#p5e670291ba)\" d=\"M 37.69625 238.923975 \nL 324.27625 238.923975 \n\" style=\"fill:none;stroke:#ffffff;stroke-linecap:round;\"/>\n     </g>\n     <g id=\"text_7\">\n      <!-- 40 -->\n      <g style=\"fill:#262626;\" transform=\"translate(14.19875 243.103116)scale(0.11 -0.11)\">\n       <use xlink:href=\"#DejaVuSans-52\"/>\n       <use x=\"63.623047\" xlink:href=\"#DejaVuSans-48\"/>\n      </g>\n     </g>\n    </g>\n    <g id=\"ytick_4\">\n     <g id=\"line2d_8\">\n      <path clip-path=\"url(#p5e670291ba)\" d=\"M 37.69625 198.436901 \nL 324.27625 198.436901 \n\" style=\"fill:none;stroke:#ffffff;stroke-linecap:round;\"/>\n     </g>\n     <g id=\"text_8\">\n      <!-- 60 -->\n      <g style=\"fill:#262626;\" transform=\"translate(14.19875 202.616041)scale(0.11 -0.11)\">\n       <defs>\n        <path d=\"M 33.015625 40.375 \nQ 26.375 40.375 22.484375 35.828125 \nQ 18.609375 31.296875 18.609375 23.390625 \nQ 18.609375 15.53125 22.484375 10.953125 \nQ 26.375 6.390625 33.015625 6.390625 \nQ 39.65625 6.390625 43.53125 10.953125 \nQ 47.40625 15.53125 47.40625 23.390625 \nQ 47.40625 31.296875 43.53125 35.828125 \nQ 39.65625 40.375 33.015625 40.375 \nz\nM 52.59375 71.296875 \nL 52.59375 62.3125 \nQ 48.875 64.0625 45.09375 64.984375 \nQ 41.3125 65.921875 37.59375 65.921875 \nQ 27.828125 65.921875 22.671875 59.328125 \nQ 17.53125 52.734375 16.796875 39.40625 \nQ 19.671875 43.65625 24.015625 45.921875 \nQ 28.375 48.1875 33.59375 48.1875 \nQ 44.578125 48.1875 50.953125 41.515625 \nQ 57.328125 34.859375 57.328125 23.390625 \nQ 57.328125 12.15625 50.6875 5.359375 \nQ 44.046875 -1.421875 33.015625 -1.421875 \nQ 20.359375 -1.421875 13.671875 8.265625 \nQ 6.984375 17.96875 6.984375 36.375 \nQ 6.984375 53.65625 15.1875 63.9375 \nQ 23.390625 74.21875 37.203125 74.21875 \nQ 40.921875 74.21875 44.703125 73.484375 \nQ 48.484375 72.75 52.59375 71.296875 \nz\n\" id=\"DejaVuSans-54\"/>\n       </defs>\n       <use xlink:href=\"#DejaVuSans-54\"/>\n       <use x=\"63.623047\" xlink:href=\"#DejaVuSans-48\"/>\n      </g>\n     </g>\n    </g>\n    <g id=\"ytick_5\">\n     <g id=\"line2d_9\">\n      <path clip-path=\"url(#p5e670291ba)\" d=\"M 37.69625 157.949826 \nL 324.27625 157.949826 \n\" style=\"fill:none;stroke:#ffffff;stroke-linecap:round;\"/>\n     </g>\n     <g id=\"text_9\">\n      <!-- 80 -->\n      <g style=\"fill:#262626;\" transform=\"translate(14.19875 162.128966)scale(0.11 -0.11)\">\n       <defs>\n        <path d=\"M 31.78125 34.625 \nQ 24.75 34.625 20.71875 30.859375 \nQ 16.703125 27.09375 16.703125 20.515625 \nQ 16.703125 13.921875 20.71875 10.15625 \nQ 24.75 6.390625 31.78125 6.390625 \nQ 38.8125 6.390625 42.859375 10.171875 \nQ 46.921875 13.96875 46.921875 20.515625 \nQ 46.921875 27.09375 42.890625 30.859375 \nQ 38.875 34.625 31.78125 34.625 \nz\nM 21.921875 38.8125 \nQ 15.578125 40.375 12.03125 44.71875 \nQ 8.5 49.078125 8.5 55.328125 \nQ 8.5 64.0625 14.71875 69.140625 \nQ 20.953125 74.21875 31.78125 74.21875 \nQ 42.671875 74.21875 48.875 69.140625 \nQ 55.078125 64.0625 55.078125 55.328125 \nQ 55.078125 49.078125 51.53125 44.71875 \nQ 48 40.375 41.703125 38.8125 \nQ 48.828125 37.15625 52.796875 32.3125 \nQ 56.78125 27.484375 56.78125 20.515625 \nQ 56.78125 9.90625 50.3125 4.234375 \nQ 43.84375 -1.421875 31.78125 -1.421875 \nQ 19.734375 -1.421875 13.25 4.234375 \nQ 6.78125 9.90625 6.78125 20.515625 \nQ 6.78125 27.484375 10.78125 32.3125 \nQ 14.796875 37.15625 21.921875 38.8125 \nz\nM 18.3125 54.390625 \nQ 18.3125 48.734375 21.84375 45.5625 \nQ 25.390625 42.390625 31.78125 42.390625 \nQ 38.140625 42.390625 41.71875 45.5625 \nQ 45.3125 48.734375 45.3125 54.390625 \nQ 45.3125 60.0625 41.71875 63.234375 \nQ 38.140625 66.40625 31.78125 66.40625 \nQ 25.390625 66.40625 21.84375 63.234375 \nQ 18.3125 60.0625 18.3125 54.390625 \nz\n\" id=\"DejaVuSans-56\"/>\n       </defs>\n       <use xlink:href=\"#DejaVuSans-56\"/>\n       <use x=\"63.623047\" xlink:href=\"#DejaVuSans-48\"/>\n      </g>\n     </g>\n    </g>\n    <g id=\"ytick_6\">\n     <g id=\"line2d_10\">\n      <path clip-path=\"url(#p5e670291ba)\" d=\"M 37.69625 117.462751 \nL 324.27625 117.462751 \n\" style=\"fill:none;stroke:#ffffff;stroke-linecap:round;\"/>\n     </g>\n     <g id=\"text_10\">\n      <!-- 100 -->\n      <g style=\"fill:#262626;\" transform=\"translate(7.2 121.641891)scale(0.11 -0.11)\">\n       <use xlink:href=\"#DejaVuSans-49\"/>\n       <use x=\"63.623047\" xlink:href=\"#DejaVuSans-48\"/>\n       <use x=\"127.246094\" xlink:href=\"#DejaVuSans-48\"/>\n      </g>\n     </g>\n    </g>\n    <g id=\"ytick_7\">\n     <g id=\"line2d_11\">\n      <path clip-path=\"url(#p5e670291ba)\" d=\"M 37.69625 76.975676 \nL 324.27625 76.975676 \n\" style=\"fill:none;stroke:#ffffff;stroke-linecap:round;\"/>\n     </g>\n     <g id=\"text_11\">\n      <!-- 120 -->\n      <g style=\"fill:#262626;\" transform=\"translate(7.2 81.154817)scale(0.11 -0.11)\">\n       <use xlink:href=\"#DejaVuSans-49\"/>\n       <use x=\"63.623047\" xlink:href=\"#DejaVuSans-50\"/>\n       <use x=\"127.246094\" xlink:href=\"#DejaVuSans-48\"/>\n      </g>\n     </g>\n    </g>\n    <g id=\"ytick_8\">\n     <g id=\"line2d_12\">\n      <path clip-path=\"url(#p5e670291ba)\" d=\"M 37.69625 36.488601 \nL 324.27625 36.488601 \n\" style=\"fill:none;stroke:#ffffff;stroke-linecap:round;\"/>\n     </g>\n     <g id=\"text_12\">\n      <!-- 140 -->\n      <g style=\"fill:#262626;\" transform=\"translate(7.2 40.667742)scale(0.11 -0.11)\">\n       <use xlink:href=\"#DejaVuSans-49\"/>\n       <use x=\"63.623047\" xlink:href=\"#DejaVuSans-52\"/>\n       <use x=\"127.246094\" xlink:href=\"#DejaVuSans-48\"/>\n      </g>\n     </g>\n    </g>\n   </g>\n   <g id=\"patch_3\">\n    <path clip-path=\"url(#p5e670291ba)\" d=\"M 50.722614 319.898125 \nL 115.854432 319.898125 \nL 115.854432 36.488601 \nL 50.722614 36.488601 \nz\n\" style=\"fill:#4c72b0;fill-opacity:0.75;stroke:#ffffff;stroke-linejoin:miter;\"/>\n   </g>\n   <g id=\"patch_4\">\n    <path clip-path=\"url(#p5e670291ba)\" d=\"M 115.854432 319.898125 \nL 180.98625 319.898125 \nL 180.98625 297.630234 \nL 115.854432 297.630234 \nz\n\" style=\"fill:#4c72b0;fill-opacity:0.75;stroke:#ffffff;stroke-linejoin:miter;\"/>\n   </g>\n   <g id=\"patch_5\">\n    <path clip-path=\"url(#p5e670291ba)\" d=\"M 180.98625 319.898125 \nL 246.118068 319.898125 \nL 246.118068 311.80071 \nL 180.98625 311.80071 \nz\n\" style=\"fill:#4c72b0;fill-opacity:0.75;stroke:#ffffff;stroke-linejoin:miter;\"/>\n   </g>\n   <g id=\"patch_6\">\n    <path clip-path=\"url(#p5e670291ba)\" d=\"M 246.118068 319.898125 \nL 311.249886 319.898125 \nL 311.249886 311.80071 \nL 246.118068 311.80071 \nz\n\" style=\"fill:#4c72b0;fill-opacity:0.75;stroke:#ffffff;stroke-linejoin:miter;\"/>\n   </g>\n   <g id=\"patch_7\">\n    <path d=\"M 37.69625 319.898125 \nL 37.69625 22.318125 \n\" style=\"fill:none;stroke:#ffffff;stroke-linecap:square;stroke-linejoin:miter;stroke-width:1.25;\"/>\n   </g>\n   <g id=\"patch_8\">\n    <path d=\"M 37.69625 319.898125 \nL 324.27625 319.898125 \n\" style=\"fill:none;stroke:#ffffff;stroke-linecap:square;stroke-linejoin:miter;stroke-width:1.25;\"/>\n   </g>\n   <g id=\"text_13\">\n    <!-- No. of films with Gal Gadot -->\n    <g style=\"fill:#262626;\" transform=\"translate(100.410937 16.318125)scale(0.12 -0.12)\">\n     <defs>\n      <path d=\"M 9.8125 72.90625 \nL 23.09375 72.90625 \nL 55.421875 11.921875 \nL 55.421875 72.90625 \nL 64.984375 72.90625 \nL 64.984375 0 \nL 51.703125 0 \nL 19.390625 60.984375 \nL 19.390625 0 \nL 9.8125 0 \nz\n\" id=\"DejaVuSans-78\"/>\n      <path d=\"M 30.609375 48.390625 \nQ 23.390625 48.390625 19.1875 42.75 \nQ 14.984375 37.109375 14.984375 27.296875 \nQ 14.984375 17.484375 19.15625 11.84375 \nQ 23.34375 6.203125 30.609375 6.203125 \nQ 37.796875 6.203125 41.984375 11.859375 \nQ 46.1875 17.53125 46.1875 27.296875 \nQ 46.1875 37.015625 41.984375 42.703125 \nQ 37.796875 48.390625 30.609375 48.390625 \nz\nM 30.609375 56 \nQ 42.328125 56 49.015625 48.375 \nQ 55.71875 40.765625 55.71875 27.296875 \nQ 55.71875 13.875 49.015625 6.21875 \nQ 42.328125 -1.421875 30.609375 -1.421875 \nQ 18.84375 -1.421875 12.171875 6.21875 \nQ 5.515625 13.875 5.515625 27.296875 \nQ 5.515625 40.765625 12.171875 48.375 \nQ 18.84375 56 30.609375 56 \nz\n\" id=\"DejaVuSans-111\"/>\n      <path d=\"M 10.6875 12.40625 \nL 21 12.40625 \nL 21 0 \nL 10.6875 0 \nz\n\" id=\"DejaVuSans-46\"/>\n      <path id=\"DejaVuSans-32\"/>\n      <path d=\"M 37.109375 75.984375 \nL 37.109375 68.5 \nL 28.515625 68.5 \nQ 23.6875 68.5 21.796875 66.546875 \nQ 19.921875 64.59375 19.921875 59.515625 \nL 19.921875 54.6875 \nL 34.71875 54.6875 \nL 34.71875 47.703125 \nL 19.921875 47.703125 \nL 19.921875 0 \nL 10.890625 0 \nL 10.890625 47.703125 \nL 2.296875 47.703125 \nL 2.296875 54.6875 \nL 10.890625 54.6875 \nL 10.890625 58.5 \nQ 10.890625 67.625 15.140625 71.796875 \nQ 19.390625 75.984375 28.609375 75.984375 \nz\n\" id=\"DejaVuSans-102\"/>\n      <path d=\"M 9.421875 54.6875 \nL 18.40625 54.6875 \nL 18.40625 0 \nL 9.421875 0 \nz\nM 9.421875 75.984375 \nL 18.40625 75.984375 \nL 18.40625 64.59375 \nL 9.421875 64.59375 \nz\n\" id=\"DejaVuSans-105\"/>\n      <path d=\"M 9.421875 75.984375 \nL 18.40625 75.984375 \nL 18.40625 0 \nL 9.421875 0 \nz\n\" id=\"DejaVuSans-108\"/>\n      <path d=\"M 52 44.1875 \nQ 55.375 50.25 60.0625 53.125 \nQ 64.75 56 71.09375 56 \nQ 79.640625 56 84.28125 50.015625 \nQ 88.921875 44.046875 88.921875 33.015625 \nL 88.921875 0 \nL 79.890625 0 \nL 79.890625 32.71875 \nQ 79.890625 40.578125 77.09375 44.375 \nQ 74.3125 48.1875 68.609375 48.1875 \nQ 61.625 48.1875 57.5625 43.546875 \nQ 53.515625 38.921875 53.515625 30.90625 \nL 53.515625 0 \nL 44.484375 0 \nL 44.484375 32.71875 \nQ 44.484375 40.625 41.703125 44.40625 \nQ 38.921875 48.1875 33.109375 48.1875 \nQ 26.21875 48.1875 22.15625 43.53125 \nQ 18.109375 38.875 18.109375 30.90625 \nL 18.109375 0 \nL 9.078125 0 \nL 9.078125 54.6875 \nL 18.109375 54.6875 \nL 18.109375 46.1875 \nQ 21.1875 51.21875 25.484375 53.609375 \nQ 29.78125 56 35.6875 56 \nQ 41.65625 56 45.828125 52.96875 \nQ 50 49.953125 52 44.1875 \nz\n\" id=\"DejaVuSans-109\"/>\n      <path d=\"M 44.28125 53.078125 \nL 44.28125 44.578125 \nQ 40.484375 46.53125 36.375 47.5 \nQ 32.28125 48.484375 27.875 48.484375 \nQ 21.1875 48.484375 17.84375 46.4375 \nQ 14.5 44.390625 14.5 40.28125 \nQ 14.5 37.15625 16.890625 35.375 \nQ 19.28125 33.59375 26.515625 31.984375 \nL 29.59375 31.296875 \nQ 39.15625 29.25 43.1875 25.515625 \nQ 47.21875 21.78125 47.21875 15.09375 \nQ 47.21875 7.46875 41.1875 3.015625 \nQ 35.15625 -1.421875 24.609375 -1.421875 \nQ 20.21875 -1.421875 15.453125 -0.5625 \nQ 10.6875 0.296875 5.421875 2 \nL 5.421875 11.28125 \nQ 10.40625 8.6875 15.234375 7.390625 \nQ 20.0625 6.109375 24.8125 6.109375 \nQ 31.15625 6.109375 34.5625 8.28125 \nQ 37.984375 10.453125 37.984375 14.40625 \nQ 37.984375 18.0625 35.515625 20.015625 \nQ 33.0625 21.96875 24.703125 23.78125 \nL 21.578125 24.515625 \nQ 13.234375 26.265625 9.515625 29.90625 \nQ 5.8125 33.546875 5.8125 39.890625 \nQ 5.8125 47.609375 11.28125 51.796875 \nQ 16.75 56 26.8125 56 \nQ 31.78125 56 36.171875 55.265625 \nQ 40.578125 54.546875 44.28125 53.078125 \nz\n\" id=\"DejaVuSans-115\"/>\n      <path d=\"M 4.203125 54.6875 \nL 13.1875 54.6875 \nL 24.421875 12.015625 \nL 35.59375 54.6875 \nL 46.1875 54.6875 \nL 57.421875 12.015625 \nL 68.609375 54.6875 \nL 77.59375 54.6875 \nL 63.28125 0 \nL 52.6875 0 \nL 40.921875 44.828125 \nL 29.109375 0 \nL 18.5 0 \nz\n\" id=\"DejaVuSans-119\"/>\n      <path d=\"M 18.3125 70.21875 \nL 18.3125 54.6875 \nL 36.8125 54.6875 \nL 36.8125 47.703125 \nL 18.3125 47.703125 \nL 18.3125 18.015625 \nQ 18.3125 11.328125 20.140625 9.421875 \nQ 21.96875 7.515625 27.59375 7.515625 \nL 36.8125 7.515625 \nL 36.8125 0 \nL 27.59375 0 \nQ 17.1875 0 13.234375 3.875 \nQ 9.28125 7.765625 9.28125 18.015625 \nL 9.28125 47.703125 \nL 2.6875 47.703125 \nL 2.6875 54.6875 \nL 9.28125 54.6875 \nL 9.28125 70.21875 \nz\n\" id=\"DejaVuSans-116\"/>\n      <path d=\"M 54.890625 33.015625 \nL 54.890625 0 \nL 45.90625 0 \nL 45.90625 32.71875 \nQ 45.90625 40.484375 42.875 44.328125 \nQ 39.84375 48.1875 33.796875 48.1875 \nQ 26.515625 48.1875 22.3125 43.546875 \nQ 18.109375 38.921875 18.109375 30.90625 \nL 18.109375 0 \nL 9.078125 0 \nL 9.078125 75.984375 \nL 18.109375 75.984375 \nL 18.109375 46.1875 \nQ 21.34375 51.125 25.703125 53.5625 \nQ 30.078125 56 35.796875 56 \nQ 45.21875 56 50.046875 50.171875 \nQ 54.890625 44.34375 54.890625 33.015625 \nz\n\" id=\"DejaVuSans-104\"/>\n      <path d=\"M 59.515625 10.40625 \nL 59.515625 29.984375 \nL 43.40625 29.984375 \nL 43.40625 38.09375 \nL 69.28125 38.09375 \nL 69.28125 6.78125 \nQ 63.578125 2.734375 56.6875 0.65625 \nQ 49.8125 -1.421875 42 -1.421875 \nQ 24.90625 -1.421875 15.25 8.5625 \nQ 5.609375 18.5625 5.609375 36.375 \nQ 5.609375 54.25 15.25 64.234375 \nQ 24.90625 74.21875 42 74.21875 \nQ 49.125 74.21875 55.546875 72.453125 \nQ 61.96875 70.703125 67.390625 67.28125 \nL 67.390625 56.78125 \nQ 61.921875 61.421875 55.765625 63.765625 \nQ 49.609375 66.109375 42.828125 66.109375 \nQ 29.4375 66.109375 22.71875 58.640625 \nQ 16.015625 51.171875 16.015625 36.375 \nQ 16.015625 21.625 22.71875 14.15625 \nQ 29.4375 6.6875 42.828125 6.6875 \nQ 48.046875 6.6875 52.140625 7.59375 \nQ 56.25 8.5 59.515625 10.40625 \nz\n\" id=\"DejaVuSans-71\"/>\n      <path d=\"M 34.28125 27.484375 \nQ 23.390625 27.484375 19.1875 25 \nQ 14.984375 22.515625 14.984375 16.5 \nQ 14.984375 11.71875 18.140625 8.90625 \nQ 21.296875 6.109375 26.703125 6.109375 \nQ 34.1875 6.109375 38.703125 11.40625 \nQ 43.21875 16.703125 43.21875 25.484375 \nL 43.21875 27.484375 \nz\nM 52.203125 31.203125 \nL 52.203125 0 \nL 43.21875 0 \nL 43.21875 8.296875 \nQ 40.140625 3.328125 35.546875 0.953125 \nQ 30.953125 -1.421875 24.3125 -1.421875 \nQ 15.921875 -1.421875 10.953125 3.296875 \nQ 6 8.015625 6 15.921875 \nQ 6 25.140625 12.171875 29.828125 \nQ 18.359375 34.515625 30.609375 34.515625 \nL 43.21875 34.515625 \nL 43.21875 35.40625 \nQ 43.21875 41.609375 39.140625 45 \nQ 35.0625 48.390625 27.6875 48.390625 \nQ 23 48.390625 18.546875 47.265625 \nQ 14.109375 46.140625 10.015625 43.890625 \nL 10.015625 52.203125 \nQ 14.9375 54.109375 19.578125 55.046875 \nQ 24.21875 56 28.609375 56 \nQ 40.484375 56 46.34375 49.84375 \nQ 52.203125 43.703125 52.203125 31.203125 \nz\n\" id=\"DejaVuSans-97\"/>\n      <path d=\"M 45.40625 46.390625 \nL 45.40625 75.984375 \nL 54.390625 75.984375 \nL 54.390625 0 \nL 45.40625 0 \nL 45.40625 8.203125 \nQ 42.578125 3.328125 38.25 0.953125 \nQ 33.9375 -1.421875 27.875 -1.421875 \nQ 17.96875 -1.421875 11.734375 6.484375 \nQ 5.515625 14.40625 5.515625 27.296875 \nQ 5.515625 40.1875 11.734375 48.09375 \nQ 17.96875 56 27.875 56 \nQ 33.9375 56 38.25 53.625 \nQ 42.578125 51.265625 45.40625 46.390625 \nz\nM 14.796875 27.296875 \nQ 14.796875 17.390625 18.875 11.75 \nQ 22.953125 6.109375 30.078125 6.109375 \nQ 37.203125 6.109375 41.296875 11.75 \nQ 45.40625 17.390625 45.40625 27.296875 \nQ 45.40625 37.203125 41.296875 42.84375 \nQ 37.203125 48.484375 30.078125 48.484375 \nQ 22.953125 48.484375 18.875 42.84375 \nQ 14.796875 37.203125 14.796875 27.296875 \nz\n\" id=\"DejaVuSans-100\"/>\n     </defs>\n     <use xlink:href=\"#DejaVuSans-78\"/>\n     <use x=\"74.804688\" xlink:href=\"#DejaVuSans-111\"/>\n     <use x=\"134.236328\" xlink:href=\"#DejaVuSans-46\"/>\n     <use x=\"166.023438\" xlink:href=\"#DejaVuSans-32\"/>\n     <use x=\"197.810547\" xlink:href=\"#DejaVuSans-111\"/>\n     <use x=\"258.992188\" xlink:href=\"#DejaVuSans-102\"/>\n     <use x=\"294.197266\" xlink:href=\"#DejaVuSans-32\"/>\n     <use x=\"325.984375\" xlink:href=\"#DejaVuSans-102\"/>\n     <use x=\"361.189453\" xlink:href=\"#DejaVuSans-105\"/>\n     <use x=\"388.972656\" xlink:href=\"#DejaVuSans-108\"/>\n     <use x=\"416.755859\" xlink:href=\"#DejaVuSans-109\"/>\n     <use x=\"514.167969\" xlink:href=\"#DejaVuSans-115\"/>\n     <use x=\"566.267578\" xlink:href=\"#DejaVuSans-32\"/>\n     <use x=\"598.054688\" xlink:href=\"#DejaVuSans-119\"/>\n     <use x=\"679.841797\" xlink:href=\"#DejaVuSans-105\"/>\n     <use x=\"707.625\" xlink:href=\"#DejaVuSans-116\"/>\n     <use x=\"746.833984\" xlink:href=\"#DejaVuSans-104\"/>\n     <use x=\"810.212891\" xlink:href=\"#DejaVuSans-32\"/>\n     <use x=\"842\" xlink:href=\"#DejaVuSans-71\"/>\n     <use x=\"919.490234\" xlink:href=\"#DejaVuSans-97\"/>\n     <use x=\"980.769531\" xlink:href=\"#DejaVuSans-108\"/>\n     <use x=\"1008.552734\" xlink:href=\"#DejaVuSans-32\"/>\n     <use x=\"1040.339844\" xlink:href=\"#DejaVuSans-71\"/>\n     <use x=\"1117.830078\" xlink:href=\"#DejaVuSans-97\"/>\n     <use x=\"1179.109375\" xlink:href=\"#DejaVuSans-100\"/>\n     <use x=\"1242.585938\" xlink:href=\"#DejaVuSans-111\"/>\n     <use x=\"1303.767578\" xlink:href=\"#DejaVuSans-116\"/>\n    </g>\n   </g>\n   <g id=\"legend_1\">\n    <g id=\"patch_9\">\n     <path d=\"M 248.709687 47.264062 \nL 316.57625 47.264062 \nQ 318.77625 47.264062 318.77625 45.064062 \nL 318.77625 30.018125 \nQ 318.77625 27.818125 316.57625 27.818125 \nL 248.709687 27.818125 \nQ 246.509687 27.818125 246.509687 30.018125 \nL 246.509687 45.064062 \nQ 246.509687 47.264062 248.709687 47.264062 \nz\n\" style=\"fill:#eaeaf2;opacity:0.8;stroke:#cccccc;stroke-linejoin:miter;\"/>\n    </g>\n    <g id=\"patch_10\">\n     <path d=\"M 250.909687 40.576406 \nL 272.909687 40.576406 \nL 272.909687 32.876406 \nL 250.909687 32.876406 \nz\n\" style=\"fill:#4c72b0;fill-opacity:0.75;stroke:#ffffff;stroke-linejoin:miter;\"/>\n    </g>\n    <g id=\"text_14\">\n     <!-- Count -->\n     <g style=\"fill:#262626;\" transform=\"translate(281.709687 40.576406)scale(0.11 -0.11)\">\n      <defs>\n       <path d=\"M 64.40625 67.28125 \nL 64.40625 56.890625 \nQ 59.421875 61.53125 53.78125 63.8125 \nQ 48.140625 66.109375 41.796875 66.109375 \nQ 29.296875 66.109375 22.65625 58.46875 \nQ 16.015625 50.828125 16.015625 36.375 \nQ 16.015625 21.96875 22.65625 14.328125 \nQ 29.296875 6.6875 41.796875 6.6875 \nQ 48.140625 6.6875 53.78125 8.984375 \nQ 59.421875 11.28125 64.40625 15.921875 \nL 64.40625 5.609375 \nQ 59.234375 2.09375 53.4375 0.328125 \nQ 47.65625 -1.421875 41.21875 -1.421875 \nQ 24.65625 -1.421875 15.125 8.703125 \nQ 5.609375 18.84375 5.609375 36.375 \nQ 5.609375 53.953125 15.125 64.078125 \nQ 24.65625 74.21875 41.21875 74.21875 \nQ 47.75 74.21875 53.53125 72.484375 \nQ 59.328125 70.75 64.40625 67.28125 \nz\n\" id=\"DejaVuSans-67\"/>\n       <path d=\"M 8.5 21.578125 \nL 8.5 54.6875 \nL 17.484375 54.6875 \nL 17.484375 21.921875 \nQ 17.484375 14.15625 20.5 10.265625 \nQ 23.53125 6.390625 29.59375 6.390625 \nQ 36.859375 6.390625 41.078125 11.03125 \nQ 45.3125 15.671875 45.3125 23.6875 \nL 45.3125 54.6875 \nL 54.296875 54.6875 \nL 54.296875 0 \nL 45.3125 0 \nL 45.3125 8.40625 \nQ 42.046875 3.421875 37.71875 1 \nQ 33.40625 -1.421875 27.6875 -1.421875 \nQ 18.265625 -1.421875 13.375 4.4375 \nQ 8.5 10.296875 8.5 21.578125 \nz\nM 31.109375 56 \nz\n\" id=\"DejaVuSans-117\"/>\n       <path d=\"M 54.890625 33.015625 \nL 54.890625 0 \nL 45.90625 0 \nL 45.90625 32.71875 \nQ 45.90625 40.484375 42.875 44.328125 \nQ 39.84375 48.1875 33.796875 48.1875 \nQ 26.515625 48.1875 22.3125 43.546875 \nQ 18.109375 38.921875 18.109375 30.90625 \nL 18.109375 0 \nL 9.078125 0 \nL 9.078125 54.6875 \nL 18.109375 54.6875 \nL 18.109375 46.1875 \nQ 21.34375 51.125 25.703125 53.5625 \nQ 30.078125 56 35.796875 56 \nQ 45.21875 56 50.046875 50.171875 \nQ 54.890625 44.34375 54.890625 33.015625 \nz\n\" id=\"DejaVuSans-110\"/>\n      </defs>\n      <use xlink:href=\"#DejaVuSans-67\"/>\n      <use x=\"69.824219\" xlink:href=\"#DejaVuSans-111\"/>\n      <use x=\"131.005859\" xlink:href=\"#DejaVuSans-117\"/>\n      <use x=\"194.384766\" xlink:href=\"#DejaVuSans-110\"/>\n      <use x=\"257.763672\" xlink:href=\"#DejaVuSans-116\"/>\n     </g>\n    </g>\n   </g>\n  </g>\n </g>\n <defs>\n  <clipPath id=\"p5e670291ba\">\n   <rect height=\"297.58\" width=\"286.58\" x=\"37.69625\" y=\"22.318125\"/>\n  </clipPath>\n </defs>\n</svg>\n",
      "image/png": "[encoded data removed]"
     },
     "metadata": {}
    }
   ],
   "source": [
    "# visualization\n",
    "import seaborn as sns\n",
    "import matplotlib.pyplot as plt\n",
    "sns.set()\n",
    "plt.figure(figsize=(16, 9))\n",
    "dfh = df.groupby('Name').count()\n",
    "sns.displot(dfh[\"Year of Birth\"], label=\"Count\", bins=4)\n",
    "plt.xlabel('')\n",
    "plt.ylabel('')\n",
    "plt.xticks([1,2,3,4])\n",
    "plt.title(\"No. of films with Gal Gadot\")\n",
    "plt.legend()  \n",
    "plt.show()"
   ]
  }
 ]
}